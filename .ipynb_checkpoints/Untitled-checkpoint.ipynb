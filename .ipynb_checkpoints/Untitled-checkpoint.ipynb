{
 "cells": [
  {
   "cell_type": "code",
   "execution_count": null,
   "id": "e8446392",
   "metadata": {},
   "outputs": [],
   "source": [
    "import numpy as np\n",
    "from flask import Flask, request, render_template\n",
    "import pickle\n",
    "\n",
    "app = Flask(__name__)\n",
    "model = pickle.load(open('model-bmi.pkl', 'rb'))\n",
    "\n",
    "@app.route('/')\n",
    "def home():\n",
    "    return render_template('index.html')\n",
    "\n",
    "\n",
    "@app.route('/predict',methods=[\"POST\"])\n",
    "def predict():\n",
    "    '''\n",
    "    For rendering results on HTML GUI\n",
    "    '''\n",
    "    int_features = [int(x) for x in request.form.values()]\n",
    "    final_features = [np.array(int_features)]\n",
    "    prediction = model.predict(final_features)\n",
    "    \n",
    "    if prediction == 0:\n",
    "        output = \"Extremely Weak. Please go to a doctor to check.\"\n",
    "    elif prediction == 1:\n",
    "        output = \"Weak\"\n",
    "    elif prediction == 2:\n",
    "        output = \"Normal\"\n",
    "    elif prediction == 3:\n",
    "        output = \"Overweight\"\n",
    "    elif prediction == 4:\n",
    "        output = \"Obesity. Please go to a doctor to check.\"\n",
    "    elif prediction == 5:\n",
    "        output = \"Extreme Obesity. Please go to a doctor to check.\"\n",
    "    return render_template(\"index.html\", prediction_text = output)\n",
    "\n",
    "\n",
    "if __name__ == \"__main__\":\n",
    "    app.run(port = 5000, debug=True)"
   ]
  }
 ],
 "metadata": {
  "kernelspec": {
   "display_name": "Python 3",
   "language": "python",
   "name": "python3"
  },
  "language_info": {
   "codemirror_mode": {
    "name": "ipython",
    "version": 3
   },
   "file_extension": ".py",
   "mimetype": "text/x-python",
   "name": "python",
   "nbconvert_exporter": "python",
   "pygments_lexer": "ipython3",
   "version": "3.8.8"
  }
 },
 "nbformat": 4,
 "nbformat_minor": 5
}
