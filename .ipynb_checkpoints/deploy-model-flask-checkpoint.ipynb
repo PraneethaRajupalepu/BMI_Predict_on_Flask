{
 "cells": [
  {
   "cell_type": "code",
   "execution_count": null,
   "id": "af3d74e9",
   "metadata": {},
   "outputs": [],
   "source": [
    "#bmi-calc python file\n",
    "import numpy as np\n",
    "import pandas as pd\n",
    "import pickle\n",
    "from sklearn.model_selection import train_test_split\n",
    "from sklearn.linear_model import LogisticRegression\n",
    "\n",
    "bmi_prediction = pd.read_csv(\"BMI-Index.csv\")\n",
    "\n",
    "\n",
    "X = bmi_prediction[['Height', 'Weight']]\n",
    "y = bmi_prediction['Index']\n",
    "\n",
    "X_train, X_test, y_train, y_test = train_test_split(\n",
    "    X, y, test_size=0.4, random_state=3)\n",
    "\n",
    "lm = LogisticRegression(solver='liblinear')\n",
    "lm.fit(X_train, y_train)\n",
    "print(lm.predict(X_test))\n",
    "pickle.dump(lm, open('model-bmi.pkl', 'wb'))"
   ]
  }
 ],
 "metadata": {
  "kernelspec": {
   "display_name": "Python 3",
   "language": "python",
   "name": "python3"
  },
  "language_info": {
   "codemirror_mode": {
    "name": "ipython",
    "version": 3
   },
   "file_extension": ".py",
   "mimetype": "text/x-python",
   "name": "python",
   "nbconvert_exporter": "python",
   "pygments_lexer": "ipython3",
   "version": "3.8.8"
  }
 },
 "nbformat": 4,
 "nbformat_minor": 5
}
